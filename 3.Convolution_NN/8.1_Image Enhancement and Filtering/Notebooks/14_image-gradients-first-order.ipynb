{
 "cells": [
  {
   "cell_type": "markdown",
   "metadata": {},
   "source": [
    "# <font style=\"color:rgb(50,120,229)\">First Order Derivative Filters </font>"
   ]
  },
  {
   "cell_type": "markdown",
   "metadata": {},
   "source": [
    "## <font style=\"color:rgb(50,120,229)\">Prewitt Filter</font>\n",
    "\n",
    "Knowing what gradients are, we can guess what kind of filter will help us calculate the X and Y Gradients. \n",
    "\n",
    "Let us now focus on the X Gradient first and the logic will extend to the Y Gradient as well. For the X Gradient at a pixel, we want to find the **difference in intensity** to the right and to the left of the current pixel.The following convolution filter achieves that. \n",
    "\n",
    "\\begin{bmatrix}\n",
    "-1 & 0 &1\n",
    "\\end{bmatrix}\n",
    "\n",
    "Can we improve the above gradient estimate? First, it calculates the difference between just two pixels. As a rule of thumb, when we do calculations based on a small number of pixels, our estimates are noisy. So the above filter can be enlarged to calculate the gradient over a 3x3 patch instead of over a line. The filters below provide a slightly less noisy version of the gradients in the x- and y-directions. \n",
    "\n",
    "$$\n",
    "\\begin{bmatrix}\n",
    "-1 & 0 & 1\\\\\n",
    "-1 & 0 & 1\\\\\n",
    "-1 & 0 & 1\n",
    "\\end{bmatrix}\n",
    "\\quad\n",
    "\\quad\n",
    "\\quad\n",
    "\\quad\n",
    "\\quad\n",
    "\\quad\n",
    "\\begin{bmatrix}\n",
    "-1 & -1 & -1\\\\\n",
    "0 & 0 & 0\\\\\n",
    "1 & 1 & 1\n",
    "\\end{bmatrix}\n",
    "$$\n",
    "\n",
    "The above filters are called the **Prewitt filters.** By now, some of you may be wondering if image X and Y Gradients are the x and y derivatives of the image. And yes, they are exactly that. "
   ]
  },
  {
   "cell_type": "markdown",
   "metadata": {},
   "source": [
    "# <font style=\"color:rgb(50,120,229)\">Sobel Filter</font>\n",
    "\n",
    "To make gradient calculations even more robust and noisefree, the image can be Gaussian-blurred slightly before applying a gradient filter. As you know, blurring is also a convolution operation. So applying a Gaussian blur filter before applying the gradient filter would require two convolution operations. \n",
    "\n",
    "Wouldn’t it be cool if we could use just one convolution operation that would implicitly blur and then calculate the gradient operations? We are in luck! Convolution is associative. Therefore, it is possible to combine the two convolution operations into one. \n",
    "\n",
    "This where the **Sobel Filters** come in. They perform Gaussian smoothing implicitly.  The Sobel filters for X Gradient and Y Gradient calculations are shown below. \n",
    "\n",
    "$$\n",
    "\\begin{bmatrix}\n",
    "-1 & 0 & 1\\\\\n",
    "-2 & 0 & 2\\\\\n",
    "-1 & 0 & 1\n",
    "\\end{bmatrix}\n",
    "\\quad\n",
    "\\quad\n",
    "\\quad\n",
    "\\quad\n",
    "\\quad\n",
    "\\quad\n",
    "\\begin{bmatrix}\n",
    "-1 & -2 & -1\\\\\n",
    "0 & 0 & 0\\\\\n",
    "1 & 2 & 1\n",
    "\\end{bmatrix}\n",
    "$$\n",
    "\n",
    "## <font style=\"color:rgb(50,120,229)\">Magnitude and Direction of Gradient</font>\n",
    "\n",
    "As you can see, we have two different gradients -- the gradient in the x-direction $I_x$ and the gradient in the y-direction, $I_y$ . You can think of the gradient as the a-vector with x and y components. The combined strength of the X and Y Gradients is given by the magnitude of gradient, using the formula below. \n",
    "$$\n",
    "G = \\sqrt {I^2_x + I^2_y}\n",
    "$$\n",
    "\n",
    "The direction of the gradient is given by \n",
    "\n",
    "$$\n",
    "\\theta = \\arctan \\frac{I_y}{I_x}\n",
    "$$\n",
    "\n",
    "<font style=\"color:rgb(255,0,0)\">**Note:**</font> The magnitude and direction of gradient is calculated at every pixel. $I_x$ and $I_y$ are the images obtained by running the Sobel filters for X and Y Gradients of the image."
   ]
  },
  {
   "cell_type": "markdown",
   "metadata": {},
   "source": [
    "## <font style=\"color:rgb(50,120,229)\">Sobel Gradients Code & Tutorial</font>"
   ]
  },
  {
   "cell_type": "markdown",
   "metadata": {},
   "source": [
    "OpenCV provides a [**`Sobel`**](https://docs.opencv.org/4.1.0/d4/d86/group__imgproc__filter.html#gacea54f142e81b6758cb6f375ce782c8d) function for calculating the X and Y Gradients. Below, you can see the most common usage.\n",
    "\n",
    "### <font style=\"color:rgb(8,133,37)\">Function Syntax</font>\n",
    "\n",
    "```python\n",
    "dst\t=\tcv2.Sobel(\tsrc, ddepth, dx, dy[, dst[, ksize[, scale[, delta[, borderType]]]]]\t)\n",
    "```\n",
    "\n",
    "**Parameters**\n",
    "\n",
    "- **`src`**\tinput image.\n",
    "- **`dst`**\toutput image of the same size and the same number of channels as src .\n",
    "- **`ddepth`**\toutput image depth,in the case of 8-bit input images it will result in truncated derivatives.\n",
    "- **`dx`**\torder of the derivative x.\n",
    "- **`dy`**\torder of the derivative y.\n",
    "- **`ksize`**\tsize of the extended Sobel kernel; it must be 1, 3, 5, or 7.\n",
    "- **`scale`**\toptional scale factor for the computed derivative values; by default, no scaling is applied.\n",
    "- **`delta`**\toptional delta value that is added to the results prior to storing them in dst.\n",
    "- **`borderType`**\tpixel extrapolation method.\n",
    "\n",
    "Let us go over the following tutorial and see the code in action."
   ]
  },
  {
   "cell_type": "markdown",
   "metadata": {},
   "source": [
    "### <font style=\"color:rgb(8,133,37)\">Sobel Filter Example</font>"
   ]
  },
  {
   "cell_type": "markdown",
   "metadata": {},
   "source": [
    "Sobel function can be used with color images, but to keep things simple, we are reading the image as grayscale."
   ]
  },
  {
   "cell_type": "code",
   "execution_count": 1,
   "metadata": {},
   "outputs": [],
   "source": [
    "import cv2\n",
    "import numpy as np\n",
    "from dataPath import DATA_PATH\n",
    "import matplotlib.pyplot as plt\n",
    "%matplotlib inline\n",
    "\n",
    "filename = DATA_PATH+\"images/truth.png\"\n",
    "\n",
    "image = cv2.imread(filename, cv2.IMREAD_GRAYSCALE)\n",
    "\n",
    "# Check for invalid input\n",
    "if image is None:  \n",
    "    print(\"Could not open or find the image\")"
   ]
  },
  {
   "cell_type": "markdown",
   "metadata": {},
   "source": [
    "The X and Y Gradients are calculated using the Sobel function. Note that the depth of the output images is set to `CV_32F` because gradients can take negative values."
   ]
  },
  {
   "cell_type": "code",
   "execution_count": 2,
   "metadata": {},
   "outputs": [],
   "source": [
    "# Apply sobel filter along x direction\n",
    "sobelx = cv2.Sobel(image, cv2.CV_32F, 1, 0)\n",
    "# Apply sobel filter along y direction\n",
    "sobely = cv2.Sobel(image,cv2.CV_32F,0,1)"
   ]
  },
  {
   "cell_type": "markdown",
   "metadata": {},
   "source": [
    "For display purposes, the image is normalized by scaling and shifting so that all pixel values lie between 0 and 1."
   ]
  },
  {
   "cell_type": "code",
   "execution_count": 3,
   "metadata": {},
   "outputs": [
    {
     "data": {
      "text/plain": [
       "Text(0.5, 1.0, 'Sobel Y Gradients')"
      ]
     },
     "execution_count": 3,
     "metadata": {},
     "output_type": "execute_result"
    },
    {
     "data": {
      "image/png": "[encoded data removed]",
      "text/plain": [
       "<Figure size 1440x720 with 2 Axes>"
      ]
     },
     "metadata": {
      "needs_background": "light"
     },
     "output_type": "display_data"
    }
   ],
   "source": [
    "# Normalize image for display\n",
    "cv2.normalize(sobelx, \n",
    "                dst = sobelx, \n",
    "                alpha = 0, \n",
    "                beta = 1, \n",
    "                norm_type = cv2.NORM_MINMAX, \n",
    "                dtype = cv2.CV_32F)\n",
    "cv2.normalize(sobely, \n",
    "                dst = sobely, \n",
    "                alpha = 0, \n",
    "                beta = 1, \n",
    "                norm_type = cv2.NORM_MINMAX, \n",
    "                dtype = cv2.CV_32F)\n",
    "\n",
    "plt.figure(figsize=[20,10])\n",
    "plt.subplot(121);plt.imshow(sobelx, cmap='gray');plt.title(\"Sobel X Gradients\")\n",
    "plt.subplot(122);plt.imshow(sobely, cmap='gray');plt.title(\"Sobel Y Gradients\")"
   ]
  }
 ],
 "metadata": {
  "kernelspec": {
   "display_name": "Python 3",
   "language": "python",
   "name": "python3"
  },
  "language_info": {
   "codemirror_mode": {
    "name": "ipython",
    "version": 3
   },
   "file_extension": ".py",
   "mimetype": "text/x-python",
   "name": "python",
   "nbconvert_exporter": "python",
   "pygments_lexer": "ipython3",
   "version": "3.8.3"
  }
 },
 "nbformat": 4,
 "nbformat_minor": 2
}
