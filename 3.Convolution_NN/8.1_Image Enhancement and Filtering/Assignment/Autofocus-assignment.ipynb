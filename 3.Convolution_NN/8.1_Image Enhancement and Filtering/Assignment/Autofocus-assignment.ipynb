{
    "cells": [
        {
            "cell_type": "markdown",
            "metadata": {
                "nbgrader": {
                    "grade": false,
                    "locked": true,
                    "solution": false
                },
                "editable": false,
                "deletable": false
            },
            "source": [
                "# <font style = \"color:rgb(50,120,229)\">Auto Focus Assignment<\/font>\n",
                "\n",
                "Autofocus is implemented in all digital cameras these days. \n",
                "\n",
                "While using your phone camera, you may have noticed, the camera goes out of focus for a second or two, and the image looks blurry for a bit. The camera quickly performs some calculations and autofocuses to bring the subject in focus. \n",
                "\n",
                "In SLR cameras, autofocus is activated when we press the button half way through. You can see and hear parts of the lens moving as the camera tries to autofocus. \n",
                "\n",
                "Whether it is an SLR camera or your phone camera, autofocussing is done by taking a series of photos of the scene while changing the distance of the image sensor from the lens inside the camera.\n",
                "\n",
                "In this assignment, we will find the sharpest image in a video squence of a static scene. In essence, we will do the computation necessary for autofocussing. \n"
            ]
        },
        {
            "cell_type": "code",
            "execution_count": null,
            "metadata": {
                "collapsed": true,
                "nbgrader": {
                    "grade": false,
                    "locked": true,
                    "solution": false
                },
                "editable": false,
                "deletable": false
            },
            "outputs": [],
            "source": [
                "# Import modules\n",
                "import cv2\n",
                "import matplotlib.pyplot as plt\n",
                "from dataPath import DATA_PATH\n",
                "import numpy as np\n",
                "%matplotlib inline"
            ]
        },
        {
            "cell_type": "code",
            "execution_count": null,
            "metadata": {
                "collapsed": true,
                "nbgrader": {
                    "grade": false,
                    "locked": true,
                    "solution": false
                },
                "editable": false,
                "deletable": false
            },
            "outputs": [],
            "source": [
                "import matplotlib\n",
                "matplotlib.rcParams['figure.figsize'] = (10.0, 10.0)\n",
                "matplotlib.rcParams['image.interpolation'] = 'bilinear'"
            ]
        },
        {
            "cell_type": "markdown",
            "metadata": {
                "nbgrader": {
                    "grade": false,
                    "locked": true,
                    "solution": false
                },
                "editable": false,
                "deletable": false
            },
            "source": [
                "# <font style = \"color:rgb(50,120,229)\">Measures of Sharpness<\/font>\n",
                "\n",
                "How do we know if an image is sharp? What is a good measure of sharpness?\n",
                "\n",
                "As you can imagine, an out of focus image is smooth and does not have large gradient. So some function of the gradient (first derivative) of an image should help you. \n",
                "\n",
                "A different measure could be based on the second order derivative of the image called the Laplacian. \n",
                "\n",
                "In this assignment, you to have to read one paper and a section of another paper to figure out the sharpest image in a video sequence. \n",
                "\n",
                "1. [Diatom autofocusing in brightheld microscopy: a comparative study](http:\/\/decsai.ugr.es\/vip\/files\/conferences\/Autofocusing2000.pdf): This paper has several measures of sharpess. \n",
                "\n",
                "2. [Shape from Focus](http:\/\/www1.cs.columbia.edu\/CAVE\/publications\/pdfs\/Nayar_TR89.pdf): This paper is about estimating the 3D shape of a scene using focus information. In Section 5, the author discusses a measure of focus. \n",
                "\n",
                "In the above papers, the focus is calculated over small windows. For our assignement, the focus measure needs to be calcualted over the entire image and not a small window. \n",
                "\n",
                "\n",
                "\n"
            ]
        },
        {
            "cell_type": "markdown",
            "metadata": {
                "nbgrader": {
                    "grade": false,
                    "locked": true,
                    "solution": false
                },
                "editable": false,
                "deletable": false
            },
            "source": [
                "## <font style = \"color:rgb(50,120,229)\">Assignment Instructions<\/font>\n",
                "\n",
                "In this assignment, you have to implement the following measures of focus:\n",
                "\n",
                "1. **Variance of absolute values of Laplacian** - `var_abs_laplacian` function\n",
                "\n",
                "2. **Sum Modified Laplacian (SML)** - `sum_modified_laplacian` function\n",
                "\n",
                "You will also have to manually specify the ROI for the flower region in the frame so that instead of carrying out the auto focus measurement on the entire frame, it can be carried out only on the flower.\n",
                "\n",
                "## <font style = \"color:rgb(50,120,229)\">Grading Rubric<\/font>\n",
                "\n",
                "The assignment carries **30 marks** and the marks distribution is as follows.\n",
                "\n",
                "1. Implementing *Variance of absolute values of Laplacian* method - **10 marks** (Autograded)\n",
                "2. Implementing *Sum Modified Laplacian (SML)* method - **10 marks** (Autograded)\n",
                "3. Overall submission - **10 marks** (Manually graded)\n",
                "\n",
                "A total of **5 submissions** will be allowed.\n",
                "\n",
                "## <font style = \"color:rgb(50,120,229)\">Important Functions<\/font>\n",
                "\n",
                "Here are some important functions that you can use in this assignment.\n",
                "\n",
                "1. [`cv2.filter2D`](https:\/\/docs.opencv.org\/4.1.0\/d4\/d86\/group__imgproc__filter.html#ga27c049795ce870216ddfb366086b5a04): Convolves an image with the kernel. The function applies an arbitrary linear filter to an image.\n",
                "\n",
                "2. [`cv2.Laplacian`](https:\/\/docs.opencv.org\/4.1.0\/d4\/d86\/group__imgproc__filter.html#gad78703e4c8fe703d479c1860d76429e6): Calculates the Laplacian of an image.\n",
                "\n",
                "\n",
                "#### <font style = \"color:rgb(200,0,0)\">Note<\/font>\n",
                "Please do not look for code online!  \n",
                "\n",
                "<hr \/>"
            ]
        },
        {
            "cell_type": "code",
            "execution_count": null,
            "metadata": {
                "collapsed": true
            },
            "outputs": [],
            "source": [
                "# Implement Variance of absolute values of Laplacian - Method 1\n",
                "# Input: image\n",
                "# Output: Floating point number denoting the measure of sharpness of image\n",
                "\n",
                "# Do NOT change the function name and definition\n",
                "\n",
                "def var_abs_laplacian(image):\n",
                "    ###\n",
                "    ### YOUR CODE HERE\n",
                "    ###\n"
            ]
        },
        {
            "cell_type": "code",
            "execution_count": null,
            "metadata": {
                "collapsed": true
            },
            "outputs": [],
            "source": [
                "# Implement Sum Modified Laplacian - Method 2\n",
                "# Input: image\n",
                "# Output: Floating point number denoting the measure of sharpness of image\n",
                "\n",
                "# Do NOT change the function name and definition\n",
                "\n",
                "def sum_modified_laplacian(im):\n",
                "    ###\n",
                "    ### YOUR CODE HERE\n",
                "    ###\n"
            ]
        },
        {
            "cell_type": "markdown",
            "metadata": {
                "nbgrader": {
                    "grade": false,
                    "locked": true,
                    "solution": false
                },
                "editable": false,
                "deletable": false
            },
            "source": [
                "Let's have a look at the input video.\n",
                "\n",
                "&nbsp;\n",
                "\n",
                "<center>\n",
                "<video controls width=800 src=\"https:\/\/www.dropbox.com\/s\/p3z0hbgo7sacqd1\/focus-test.mp4?dl=1\" type=\"video\/mp4\" \/>\n",
                "<\/center>"
            ]
        },
        {
            "cell_type": "code",
            "execution_count": null,
            "metadata": {
                "collapsed": true
            },
            "outputs": [],
            "source": [
                "# Read input video filename\n",
                "filename = DATA_PATH + 'videos\/focus-test.mp4'\n",
                "\n",
                "# Create a VideoCapture object\n",
                "cap = cv2.VideoCapture(filename)\n",
                "\n",
                "# Read first frame from the video\n",
                "ret, frame = cap.read()\n",
                "\n",
                "# Display total number of frames in the video\n",
                "print(\"Total number of frames : {}\".format(int(cap.get(cv2.CAP_PROP_FRAME_COUNT))))\n",
                "\n",
                "maxV1 = 0\n",
                "maxV2 = 0\n",
                "\n",
                "# Frame with maximum measure of focus\n",
                "# Obtained using methods 1 and 2\n",
                "bestFrame1 = 0 \n",
                "bestFrame2 = 0 \n",
                "\n",
                "# Frame ID of frame with maximum measure\n",
                "# of focus\n",
                "# Obtained using methods 1 and 2\n",
                "bestFrameId1 = 0 \n",
                "bestFrameId2 = 0 \n",
                "\n",
                "# Get measures of focus from both methods\n",
                "val1 = var_abs_laplacian(frame)\n",
                "val2 = sum_modified_laplacian(frame)\n",
                "\n",
                "# Specify the ROI for flower in the frame\n",
                "# UPDATE THE VALUES BELOW\n",
                "top = 0\n",
                "left = 0\n",
                "bottom = frame.shape[0]\n",
                "right = frame.shape[1]\n",
                "\n",
                "# Iterate over all the frames present in the video\n",
                "while(ret):\n",
                "    # Crop the flower region out of the frame\n",
                "    flower = frame[top:bottom, left:right]\n",
                "    # Get measures of focus from both methods\n",
                "    val1 = var_abs_laplacian(frame)\n",
                "    val2 = sum_modified_laplacian(frame)\n",
                "    \n",
                "    # If the current measure of focus is greater \n",
                "    # than the current maximum\n",
                "    if val1 > maxV1 :\n",
                "        # Revise the current maximum\n",
                "        maxV1 = val1\n",
                "        # Get frame ID of the new best frame\n",
                "        bestFrameId1 = int(cap.get(cv2.CAP_PROP_POS_FRAMES))\n",
                "        # Revise the new best frame\n",
                "        bestFrame1 = frame.copy()\n",
                "        print(\"Frame ID of the best frame [Method 1]: {}\".format(bestFrameId1))\n",
                "\n",
                "    # If the current measure of focus is greater \n",
                "    # than the current maximum\n",
                "    if val2 > maxV2 : \n",
                "        # Revise the current maximum\n",
                "        maxV2 = val2\n",
                "        # Get frame ID of the new best frame\n",
                "        bestFrameId2 = int(cap.get(cv2.CAP_PROP_POS_FRAMES))\n",
                "        # Revise the new best frame\n",
                "        bestFrame2 = frame.copy()\n",
                "        print(\"Frame ID of the best frame [Method 2]: {}\".format(bestFrameId2))\n",
                "        \n",
                "    # Read a new frame\n",
                "    ret, frame = cap.read()\n",
                "\n",
                "\n",
                "print(\"================================================\")\n",
                "# Print the Frame ID of the best frame\n",
                "print(\"Frame ID of the best frame [Method 1]: {}\".format(bestFrameId1))\n",
                "print(\"Frame ID of the best frame [Method 2]: {}\".format(bestFrameId2))\n",
                "\n",
                "# Release the VideoCapture object\n",
                "cap.release()\n",
                "\n",
                "# Stack the best frames obtained using both methods\n",
                "out = np.hstack((bestFrame1, bestFrame2))\n",
                "\n",
                "# Display the stacked frames\n",
                "plt.figure()\n",
                "plt.imshow(out[:,:,::-1]);\n",
                "plt.axis('off');"
            ]
        },
        {
            "cell_type": "code",
            "execution_count": null,
            "metadata": {
                "collapsed": true,
                "nbgrader": {
                    "grade": true,
                    "grade_id": "Implementing Variance of absolute values of Laplacian method",
                    "locked": true,
                    "points": "10",
                    "solution": false
                },
                "editable": false,
                "deletable": false
            },
            "outputs": [],
            "source": [
                "###\n",
                "### AUTOGRADER TEST - DO NOT REMOVE\n",
                "###\n"
            ]
        },
        {
            "cell_type": "code",
            "execution_count": null,
            "metadata": {
                "collapsed": true,
                "nbgrader": {
                    "grade": true,
                    "grade_id": "Implementing Sum Modified Laplacian (SML) method",
                    "locked": true,
                    "points": "10",
                    "solution": false
                },
                "editable": false,
                "deletable": false
            },
            "outputs": [],
            "source": [
                "###\n",
                "### AUTOGRADER TEST - DO NOT REMOVE\n",
                "###\n"
            ]
        },
        {
            "cell_type": "markdown",
            "metadata": {
                "nbgrader": {
                    "grade": false,
                    "locked": true,
                    "solution": false
                },
                "editable": false,
                "deletable": false
            },
            "source": [
                "# <font style = \"color:rgb(50,120,229)\">Additional Exercise<\/font>\n",
                "\n",
                "In this assignment you implemented 2 of the several measures of focus. Now, try to implement the rest of the measures of focus and see if your output matches the output you obtained using the above 2 methods. \n",
                "\n",
                "Which method do you think is the best one and why? Share your answers on the discussion forum."
            ]
        }
    ],
    "metadata": {
        "kernelspec": {
            "display_name": "Python 3 [3.6]",
            "language": "python",
            "name": "python3"
        },
        "language_info": {
            "codemirror_mode": {
                "name": "ipython",
                "version": 3
            },
            "file_extension": ".py",
            "mimetype": "text\/x-python",
            "name": "python",
            "nbconvert_exporter": "python",
            "pygments_lexer": "ipython3",
            "version": "3.6.4"
        }
    },
    "nbformat": 4,
    "nbformat_minor": 2
}